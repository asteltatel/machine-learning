{
 "cells": [
  {
   "cell_type": "markdown",
   "metadata": {},
   "source": [
    "<a rel=\"license\" href=\"http://creativecommons.org/licenses/by-nc-sa/4.0/\"><img alt=\"Creative Commons License\" align=\"left\" src=\"https://i.creativecommons.org/l/by-nc-sa/4.0/80x15.png\" /></a>&nbsp;| Fabrice Jimenez / Jérémy Pirard | <a href=\"https://supaerodatascience.github.io/machine-learning/\">https://supaerodatascience.github.io/machine-learning/</a>"
   ]
  },
  {
   "cell_type": "markdown",
   "metadata": {},
   "source": [
    "# Anomaly Detection - Practical Follow-up"
   ]
  },
  {
   "cell_type": "markdown",
   "metadata": {},
   "source": [
    "This notebook is following the progression of the Anomaly Detection class. It provides practical illustrations in Python and short exercises to understand the notions we have seen in this course."
   ]
  },
  {
   "cell_type": "markdown",
   "metadata": {},
   "source": [
    "<div class=\"alert alert-warning\">\n",
    "Author: Fabrice JIMENEZ / Jérémy Pirard\n",
    "    \n",
    "Link to course materials: https://github.com/SupaeroDataScience/machine-learning/tree/main/13%20-%20Anomaly%20Detection\n",
    "</div>"
   ]
  },
  {
   "cell_type": "markdown",
   "metadata": {},
   "source": [
    "## Preliminary loading with Google Colab"
   ]
  },
  {
   "cell_type": "markdown",
   "metadata": {},
   "source": [
    "If you are using this notebook with Google Colab, please execute first the following cells, to retrieve the GitHub repository content. Otherwise, ignore these cells and move to the next section."
   ]
  },
  {
   "cell_type": "code",
   "execution_count": null,
   "metadata": {},
   "outputs": [],
   "source": [
    "import os\n",
    "os.mkdir('data')"
   ]
  },
  {
   "cell_type": "code",
   "execution_count": null,
   "metadata": {},
   "outputs": [],
   "source": [
    "!wget -c https://github.com/SupaeroDataScience/machine-learning/blob/main/13%20-%20Anomaly%20Detection/data/X1.npy?raw=true -O data/X1.npy\n",
    "!wget -c https://github.com/SupaeroDataScience/machine-learning/blob/main/13%20-%20Anomaly%20Detection/data/X1_1.npy?raw=true -O data/X1_1.npy\n",
    "!wget -c https://github.com/SupaeroDataScience/machine-learning/blob/main/13%20-%20Anomaly%20Detection/data/X2.npy?raw=true -O data/X2.npy"
   ]
  },
  {
   "cell_type": "markdown",
   "metadata": {},
   "source": [
    "## Imports and Loading Dataset"
   ]
  },
  {
   "cell_type": "markdown",
   "metadata": {},
   "source": [
    "The dataset is sampled from random gaussian distributions."
   ]
  },
  {
   "cell_type": "code",
   "execution_count": 1,
   "metadata": {},
   "outputs": [],
   "source": [
    "import numpy as np\n",
    "import pandas as pd\n",
    "import matplotlib.pyplot as plt\n",
    "%matplotlib inline"
   ]
  },
  {
   "cell_type": "code",
   "execution_count": 2,
   "metadata": {},
   "outputs": [],
   "source": [
    "plt.rcParams['figure.figsize'] = [10, 5]"
   ]
  },
  {
   "cell_type": "code",
   "execution_count": 36,
   "metadata": {},
   "outputs": [],
   "source": [
    "X1 = np.load('data/X1.npy')\n",
    "X1_1 = np.load('data/X1_1.npy') # Variable X1 with far outlier\n",
    "X2 = np.load('data/X2.npy')\n",
    "df = pd.DataFrame()\n",
    "df['X1'] = X1\n",
    "df['X1_1'] = X1_1\n",
    "df['X2'] = X2"
   ]
  },
  {
   "cell_type": "code",
   "execution_count": 37,
   "metadata": {},
   "outputs": [
    {
     "data": {
      "text/html": [
       "<div>\n",
       "<style scoped>\n",
       "    .dataframe tbody tr th:only-of-type {\n",
       "        vertical-align: middle;\n",
       "    }\n",
       "\n",
       "    .dataframe tbody tr th {\n",
       "        vertical-align: top;\n",
       "    }\n",
       "\n",
       "    .dataframe thead th {\n",
       "        text-align: right;\n",
       "    }\n",
       "</style>\n",
       "<table border=\"1\" class=\"dataframe\">\n",
       "  <thead>\n",
       "    <tr style=\"text-align: right;\">\n",
       "      <th></th>\n",
       "      <th>X1</th>\n",
       "      <th>X1_1</th>\n",
       "      <th>X2</th>\n",
       "    </tr>\n",
       "  </thead>\n",
       "  <tbody>\n",
       "    <tr>\n",
       "      <th>0</th>\n",
       "      <td>12.662034</td>\n",
       "      <td>12.662034</td>\n",
       "      <td>-6.607371</td>\n",
       "    </tr>\n",
       "    <tr>\n",
       "      <th>1</th>\n",
       "      <td>-9.890820</td>\n",
       "      <td>-9.890820</td>\n",
       "      <td>4.638357</td>\n",
       "    </tr>\n",
       "    <tr>\n",
       "      <th>2</th>\n",
       "      <td>-7.646777</td>\n",
       "      <td>-7.646777</td>\n",
       "      <td>4.984616</td>\n",
       "    </tr>\n",
       "    <tr>\n",
       "      <th>3</th>\n",
       "      <td>-4.753542</td>\n",
       "      <td>-4.753542</td>\n",
       "      <td>-2.287770</td>\n",
       "    </tr>\n",
       "    <tr>\n",
       "      <th>4</th>\n",
       "      <td>8.975483</td>\n",
       "      <td>8.975483</td>\n",
       "      <td>7.568073</td>\n",
       "    </tr>\n",
       "  </tbody>\n",
       "</table>\n",
       "</div>"
      ],
      "text/plain": [
       "          X1       X1_1        X2\n",
       "0  12.662034  12.662034 -6.607371\n",
       "1  -9.890820  -9.890820  4.638357\n",
       "2  -7.646777  -7.646777  4.984616\n",
       "3  -4.753542  -4.753542 -2.287770\n",
       "4   8.975483   8.975483  7.568073"
      ]
     },
     "execution_count": 37,
     "metadata": {},
     "output_type": "execute_result"
    }
   ],
   "source": [
    "df.head()"
   ]
  },
  {
   "cell_type": "markdown",
   "metadata": {},
   "source": [
    "## Useful Functions"
   ]
  },
  {
   "cell_type": "markdown",
   "metadata": {},
   "source": [
    "Don't worry about these functions at the moment, they will be used later to plot some results."
   ]
  },
  {
   "cell_type": "code",
   "execution_count": 5,
   "metadata": {},
   "outputs": [],
   "source": [
    "def plotAnomalies1D(s, anomalies, threshold1, threshold2):\n",
    "    \"\"\"\n",
    "        s: Pandas Series containing all the points to plot\n",
    "        anomalies: Pandas Series containing all the points which are anomalies\n",
    "        threshold1: Float value - minimum threshold to be normal\n",
    "        threshold2: Float value - maximum threshold to be normal\n",
    "    \"\"\"\n",
    "    plt.figure()\n",
    "    plt.plot(s, [0]*len(s), 'bo')\n",
    "    plt.plot(anomalies, [0]*len(anomalies), 'ro')\n",
    "    plt.plot([threshold1]*2, [-1,1], 'g--')\n",
    "    plt.plot([threshold2]*2, [-1,1], 'g--')"
   ]
  },
  {
   "cell_type": "code",
   "execution_count": 6,
   "metadata": {},
   "outputs": [],
   "source": [
    "def plotAnomalies2D(df, clf_name, clf):\n",
    "    \"\"\"\n",
    "        df: Pandas DataFrame containing all the points to plot (for features X1 and X2)\n",
    "        clf_name: String value - name of the outlier detection model\n",
    "        clf: Scikit Learn model instance - the trained outlier detection model\n",
    "    \"\"\"\n",
    "    plt.figure()\n",
    "    plt.plot(df['X1'],df['X2'], 'o')\n",
    "    plt.xlabel('X1')\n",
    "    plt.ylabel('X2')\n",
    "    plt.xlim([df['X1'].min()-3,df['X1'].max()+3])\n",
    "    plt.ylim([df['X2'].min()-3,df['X2'].max()+3])\n",
    "    plt.title(clf_name)\n",
    "    \n",
    "    if clf_name == 'LOF':\n",
    "        ypred = clf.fit_predict(df[['X1','X2']])\n",
    "        plt.plot(df['X1'][ypred==-1],df['X2'][ypred==-1],'ro')\n",
    "    else:\n",
    "        xx, yy = np.meshgrid(np.linspace(df['X1'].min()-3,df['X1'].max()+3, 500), np.linspace(df['X2'].min()-3,df['X2'].max()+3, 500))\n",
    "        Z = clf.decision_function(np.c_[xx.ravel(), yy.ravel()])\n",
    "        Z = Z.reshape(xx.shape)\n",
    "        plt.contour(xx, yy, Z, levels=[0], linewidths=2, colors='r')"
   ]
  },
  {
   "cell_type": "code",
   "execution_count": 7,
   "metadata": {},
   "outputs": [],
   "source": [
    "def plotAnomalyScore2D(df, clf_name, clf):\n",
    "    \"\"\"\n",
    "        df: Pandas DataFrame containing all the points to plot (for features X1 and X2)\n",
    "        clf_name: String value - name of the outlier detection model\n",
    "        clf: Scikit Learn model instance - the trained outlier detection model\n",
    "    \"\"\"\n",
    "    if clf_name == 'LOF':\n",
    "        score = clf.negative_outlier_factor_\n",
    "    else:\n",
    "        score = clf.decision_function(df[['X1','X2']])\n",
    "    \n",
    "    plt.figure()\n",
    "    sc = plt.scatter(x=df['X1'],y=df['X2'], c=-score, cmap='Reds')\n",
    "    plt.colorbar(sc, label='anomaly score')\n",
    "    plt.xlabel('X1')\n",
    "    plt.ylabel('X2')\n",
    "    plt.title(clf_name)"
   ]
  },
  {
   "cell_type": "markdown",
   "metadata": {},
   "source": [
    "## Univariate Outlier Detection"
   ]
  },
  {
   "cell_type": "markdown",
   "metadata": {},
   "source": [
    "In this section, let's consider a single variable x = X1. Let's visualize the dataset in different ways..."
   ]
  },
  {
   "cell_type": "code",
   "execution_count": 29,
   "metadata": {},
   "outputs": [],
   "source": [
    "x = 'X1'"
   ]
  },
  {
   "cell_type": "code",
   "execution_count": 30,
   "metadata": {},
   "outputs": [
    {
     "data": {
      "text/plain": [
       "[<matplotlib.lines.Line2D at 0x15f011250>]"
      ]
     },
     "execution_count": 30,
     "metadata": {},
     "output_type": "execute_result"
    },
    {
     "data": {
      "image/png": "[encoded data removed]",
      "text/plain": [
       "<Figure size 1000x500 with 1 Axes>"
      ]
     },
     "metadata": {},
     "output_type": "display_data"
    }
   ],
   "source": [
    "# Scatter plot\n",
    "plt.figure()\n",
    "plt.plot(df[x], [0]*len(df), 'bo')"
   ]
  },
  {
   "cell_type": "code",
   "execution_count": 31,
   "metadata": {},
   "outputs": [
    {
     "data": {
      "text/plain": [
       "<Axes: >"
      ]
     },
     "execution_count": 31,
     "metadata": {},
     "output_type": "execute_result"
    },
    {
     "data": {
      "image/png": "[encoded data removed]",
      "text/plain": [
       "<Figure size 1000x500 with 1 Axes>"
      ]
     },
     "metadata": {},
     "output_type": "display_data"
    }
   ],
   "source": [
    "# Histogram\n",
    "df[x].hist(bins=50)"
   ]
  },
  {
   "cell_type": "code",
   "execution_count": 32,
   "metadata": {},
   "outputs": [
    {
     "data": {
      "text/plain": [
       "count    330.000000\n",
       "mean       1.119313\n",
       "std       13.497184\n",
       "min      -41.112042\n",
       "25%       -6.482452\n",
       "50%        0.676623\n",
       "75%        8.979254\n",
       "max       39.395503\n",
       "Name: X1, dtype: float64"
      ]
     },
     "execution_count": 32,
     "metadata": {},
     "output_type": "execute_result"
    }
   ],
   "source": [
    "# Key statistical indicators\n",
    "df[x].describe()"
   ]
  },
  {
   "cell_type": "code",
   "execution_count": 38,
   "metadata": {},
   "outputs": [
    {
     "data": {
      "text/plain": [
       "0      12.662034\n",
       "1      -9.890820\n",
       "2      -7.646777\n",
       "3      -4.753542\n",
       "4       8.975483\n",
       "         ...    \n",
       "325   -31.309380\n",
       "326   -24.363913\n",
       "327   -34.294935\n",
       "328   -23.242051\n",
       "329   -21.825842\n",
       "Name: X1, Length: 330, dtype: float64"
      ]
     },
     "execution_count": 38,
     "metadata": {},
     "output_type": "execute_result"
    }
   ],
   "source": [
    "df[x]"
   ]
  },
  {
   "cell_type": "markdown",
   "metadata": {},
   "source": [
    "<div class=\"alert alert-warning\">\n",
    "Question 1: if you had to detect outliers in this 1D dataset, how would you do?\n",
    "</div>"
   ]
  },
  {
   "cell_type": "markdown",
   "metadata": {},
   "source": [
    "Implement your own 1D outlier detection method. To do this, you need to compute:\n",
    "- <em>threshold1</em> : Float value - minimum threshold to be normal\n",
    "- <em>threshold2</em> : Float value - maximum threshold to be normal\n",
    "- <em>anomalies</em> : Pandas Series containing all the points which are anomalies"
   ]
  },
  {
   "cell_type": "code",
   "execution_count": 44,
   "metadata": {},
   "outputs": [
    {
     "data": {
      "image/png": "[encoded data removed]",
      "text/plain": [
       "<Figure size 1000x500 with 1 Axes>"
      ]
     },
     "metadata": {},
     "output_type": "display_data"
    },
    {
     "name": "stdout",
     "output_type": "stream",
     "text": [
      "Indices des outliers: [  0   1   2   3   4   6   7   8   9  10  11  12  13  14  15  16  17  18\n",
      "  19  20  22  23  24  25  26  27  28  29  30  31  33  34  35  36  38  39\n",
      "  40  41  42  43  44  45  46  47  48  49  50  51  52  53  54  55  57  58\n",
      "  60  61  62  63  64  65  66  68  69  70  71  72  73  74  75  76  77  79\n",
      "  81  82  84  85  86  87  91  92  93  94  95  96  97  98  99 100 101 102\n",
      " 103 104 105 106 107 108 109 110 111 112 115 116 117 118 119 120 121 122\n",
      " 123 124 126 127 128 131 132 133 135 136 137 138 139 140 141 142 143 144\n",
      " 145 146 148 149 150 151 152 153 154 155 156 157 158 159 161 162 163 164\n",
      " 165 166 168 169 170 171 172 173 175 176 178 179 180 181 182 183 184 185\n",
      " 186 187 188 189 190 192 193 194 195 196 197 199 200 201 202 203 205 206\n",
      " 207 208 209 210 211 213 214 215 216 217 218 219 220 221 222 223 225 226\n",
      " 227 228 229 230 231 232 234 235 237 239 240 241 242 243 244 245 246 247\n",
      " 248 249 250 251 252 253 254 255 256 257 259 260 262 263 264 265 266 267\n",
      " 269 270 271 272 273 274 275 276 277 279 280 281 282 283 284 285 286 288\n",
      " 289 290 291 293 294 296 297 298 300 301 302 303 304 305 306 307 308 309\n",
      " 310 311 312 313 314 315 316 317 318 319 320 321 322 323 324 325 326 327\n",
      " 328 329]\n"
     ]
    }
   ],
   "source": [
    "###### CODE HERE ######\n",
    "from scipy import stats\n",
    "\n",
    "df[x].hist(bins=50)\n",
    "\n",
    "# Seuil basé sur la distribution de Student\n",
    "n = len(df[x])  # nombre d'observations\n",
    "dl = n - 2       # degrés de liberté\n",
    "alpha = 0.05      # niveau de confiance (95%)\n",
    "t_critical = stats.t.ppf(1 - alpha / 2, dl)\n",
    "\n",
    "seuil_inf =  - t_critical \n",
    "seuil_sup =  + t_critical\n",
    "\n",
    "#  Mise en évidence des seuils des outliers\n",
    "plt.axvline(seuil_inf, color='r', linestyle='--', label=f'Seuil  inférieur Outlier')\n",
    "plt.axvline(seuil_sup, color='r', linestyle='--', label=f'Seuil supérieur Outlier')\n",
    "\n",
    "plt.xlabel('Erreur')\n",
    "plt.ylabel('Densité de probabilité')\n",
    "plt.legend()\n",
    "plt.show()\n",
    "\n",
    "# Localisation des indices des outliers\n",
    "outliers_indices = np.where((df[x] < seuil_inf) | (df[x] > seuil_sup))[0]\n",
    "print(\"Indices des outliers:\", outliers_indices)\n",
    "#######################"
   ]
  },
  {
   "cell_type": "code",
   "execution_count": null,
   "metadata": {},
   "outputs": [],
   "source": [
    "plotAnomalies1D(df[x], anomalies, threshold1, threshold2)"
   ]
  },
  {
   "cell_type": "markdown",
   "metadata": {},
   "source": [
    "<div class=\"alert alert-warning\">\n",
    "Question 2: What is the impact of far outliers on the method(s) you used?\n",
    "</div>"
   ]
  },
  {
   "cell_type": "markdown",
   "metadata": {},
   "source": [
    "Test your method(s) on variable <em>X1_1</em> instead of <em>X1</em> : 1 single point was changed, to become a very large value."
   ]
  },
  {
   "cell_type": "markdown",
   "metadata": {},
   "source": [
    "## Multivariate Outlier Detection"
   ]
  },
  {
   "cell_type": "markdown",
   "metadata": {},
   "source": [
    "In this section, let's consider 2 variables X1 and X2. Let's visualize the dataset."
   ]
  },
  {
   "cell_type": "code",
   "execution_count": null,
   "metadata": {},
   "outputs": [],
   "source": [
    "plt.figure()\n",
    "plt.plot(df['X1'],df['X2'], 'bo')\n",
    "plt.xlabel('X1')\n",
    "plt.ylabel('X2')"
   ]
  },
  {
   "cell_type": "markdown",
   "metadata": {},
   "source": [
    "We will experiment here with the 4 different outlier detection methods we have just seen in class. These methods are directly available in Scikit-Learn."
   ]
  },
  {
   "cell_type": "markdown",
   "metadata": {},
   "source": [
    "<div class=\"alert alert-warning\">\n",
    "Question 3: What is the impact of hyperparameters on the detection boundaries / anomalies detected, for each method?\n",
    "</div>"
   ]
  },
  {
   "cell_type": "markdown",
   "metadata": {},
   "source": [
    "<b>Question 3.a:</b> For example, compare the behavior of the different models, with contamination rate at same value. What models appear to be easy to tune (without taking into account contamination rate)?"
   ]
  },
  {
   "cell_type": "markdown",
   "metadata": {},
   "source": [
    "<b>Question 3.b:</b> For example, compare the behavior of different contamination rates, with the same model. What difficulties are you facing?"
   ]
  },
  {
   "cell_type": "code",
   "execution_count": null,
   "metadata": {},
   "outputs": [],
   "source": [
    "from sklearn.covariance import EllipticEnvelope\n",
    "from sklearn.ensemble import IsolationForest\n",
    "from sklearn.neighbors import LocalOutlierFactor\n",
    "from sklearn.svm import OneClassSVM"
   ]
  },
  {
   "cell_type": "code",
   "execution_count": null,
   "metadata": {},
   "outputs": [],
   "source": [
    "clf_name = 'Elliptic Envelope'\n",
    "clf = EllipticEnvelope(contamination=0.15)\n",
    "clf.fit(df[['X1','X2']])"
   ]
  },
  {
   "cell_type": "code",
   "execution_count": null,
   "metadata": {},
   "outputs": [],
   "source": [
    "clf_name = 'Isolation Forest'\n",
    "clf = IsolationForest(n_estimators=100, contamination=0.15)\n",
    "clf.fit(df[['X1','X2']])"
   ]
  },
  {
   "cell_type": "code",
   "execution_count": null,
   "metadata": {},
   "outputs": [],
   "source": [
    "clf_name = 'Local Outlier Factor'\n",
    "clf = LocalOutlierFactor(n_neighbors=5, contamination=0.15, novelty=True)\n",
    "clf.fit(df[['X1','X2']])"
   ]
  },
  {
   "cell_type": "code",
   "execution_count": null,
   "metadata": {},
   "outputs": [],
   "source": [
    "def covariance_matrix(X):\n",
    "    mean = np.mean(X, axis=0)\n",
    "    return np.cov((X - mean).T)\n",
    "\n",
    "def mahalanobis_distance(X, mean, cov_matrix):\n",
    "    inv_cov = np.linalg.inv(cov_matrix)\n",
    "    diffs = X - mean\n",
    "    #Calling diagonal to take only relative measure of distance with regards to the mean of distribution, not comparing to others\n",
    "    return np.sqrt(np.diag(np.dot(np.dot(diffs, inv_cov), diffs.T)))\n",
    "\n",
    "# MCD implementation\n",
    "def mcd(X, h):\n",
    "    # here we randomly select subsets\n",
    "    np.random.seed(42)\n",
    "    best_det = float('inf')\n",
    "    best_subset = None\n",
    "    \n",
    "    # testing 100 random subsets of h points\n",
    "    for _ in range(100):\n",
    "        subset = X[np.random.choice(X.shape[0], h, replace=False)]\n",
    "        cov_matrix = covariance_matrix(subset)\n",
    "        det = np.linalg.det(cov_matrix)\n",
    "        if det < best_det:\n",
    "            best_det = det\n",
    "            best_subset = subset\n",
    "    \n",
    "    # finding the best subset's mean and covariance matrix\n",
    "    best_mean = np.mean(best_subset, axis=0)\n",
    "    best_cov = covariance_matrix(best_subset)\n",
    "    \n",
    "    # deriving the Mahalanobis distances for all points\n",
    "    distances = mahalanobis_distance(X, best_mean, best_cov)\n",
    "    return distances\n",
    "\n",
    "np.random.seed(42)\n",
    "\n",
    "data = np.array([X1, X2]).T\n",
    "\n",
    "# apply MCD to detect outliers\n",
    "h = 150 # we use around half the data points to estimate the covariance --> TO TUNE\n",
    "distances = mcd(data, h)\n",
    "\n",
    "# threshold to determine outliers TO TUNE\n",
    "threshold = np.percentile(distances, 85)\n",
    "outliers_pred = distances > threshold\n",
    "\n",
    "plt.scatter(data[:, 0], data[:, 1], c=outliers_pred, cmap='coolwarm')\n",
    "plt.title(\"Minimum Covariance Determinant (MCD) Outlier Detection\")\n",
    "plt.xlabel('X1')\n",
    "plt.ylabel('X2')\n",
    "plt.grid(lw=2,ls=':')\n",
    "plt.show()"
   ]
  },
  {
   "cell_type": "code",
   "execution_count": null,
   "metadata": {},
   "outputs": [],
   "source": [
    "clf_name = 'One Class SVM'\n",
    "clf = OneClassSVM(nu=0.15, kernel=\"rbf\", gamma=0.3) # nu corresponds to contamination\n",
    "clf.fit(df[['X1','X2']])"
   ]
  },
  {
   "cell_type": "code",
   "execution_count": null,
   "metadata": {},
   "outputs": [],
   "source": [
    "plotAnomalies2D(df, clf_name, clf)"
   ]
  },
  {
   "cell_type": "markdown",
   "metadata": {},
   "source": [
    "<div class=\"alert alert-warning\">\n",
    "Question 4: What alternative do you have instead of tuning the contamination rate?\n",
    "</div>"
   ]
  },
  {
   "cell_type": "markdown",
   "metadata": {},
   "source": [
    "Let's compute and visualize, for each model, the continuous anomaly scores."
   ]
  },
  {
   "cell_type": "code",
   "execution_count": null,
   "metadata": {},
   "outputs": [],
   "source": [
    "plotAnomalyScore2D(df, clf_name, clf)"
   ]
  },
  {
   "cell_type": "markdown",
   "metadata": {},
   "source": [
    "## Novelty Detection"
   ]
  },
  {
   "cell_type": "markdown",
   "metadata": {},
   "source": [
    "In this section, we split the dataset to have on one side the normal points, and on the other side the new points which are anomalies."
   ]
  },
  {
   "cell_type": "code",
   "execution_count": null,
   "metadata": {},
   "outputs": [],
   "source": [
    "normal_df = df.iloc[:300].copy()\n",
    "new_anomalies = df.iloc[300:].copy()"
   ]
  },
  {
   "cell_type": "code",
   "execution_count": null,
   "metadata": {},
   "outputs": [],
   "source": [
    "plt.figure()\n",
    "plt.plot(normal_df['X1'], normal_df['X2'], 'bo')\n",
    "plt.plot(new_anomalies['X1'], new_anomalies['X2'], 'ro')\n",
    "plt.xlabel('X1')\n",
    "plt.ylabel('X2')"
   ]
  },
  {
   "cell_type": "markdown",
   "metadata": {},
   "source": [
    "The purpose of novelty detection is to learn the behavior of normal points. We can use unsupervised methods such as those we have seen earlier, but we can also use supervised learning."
   ]
  },
  {
   "cell_type": "markdown",
   "metadata": {},
   "source": [
    "<div class=\"alert alert-warning\">\n",
    "Question 5: Implement your novelty detection approach using supervised learning, to predict each variable in function of the others.\n",
    "</div>"
   ]
  },
  {
   "cell_type": "markdown",
   "metadata": {},
   "source": [
    "To do this, you have to select a supervised model $\\tilde{f}$ to learn the relationship between X1 and X2. \n",
    "\n",
    "$$\n",
    "\\tilde{X}_2 = \\tilde{f}\\left(X_1\\right)\n",
    "$$You need to compute:\n",
    "- <em>ypred_normal</em> : an array containing the predicted values for the normal dataset\n",
    "- <em>ypred_anomalies</em> : an array containing the predicted values for the new anomalies dataset"
   ]
  },
  {
   "cell_type": "code",
   "execution_count": null,
   "metadata": {},
   "outputs": [],
   "source": [
    "X = np.array(normal_df['X1']).reshape(-1,1)\n",
    "y = np.array(normal_df['X2'])"
   ]
  },
  {
   "cell_type": "code",
   "execution_count": null,
   "metadata": {},
   "outputs": [],
   "source": [
    "###### CODE HERE ######\n",
    "\n",
    "#######################"
   ]
  },
  {
   "cell_type": "markdown",
   "metadata": {},
   "source": [
    "Let's visualize the superposition of actual values and the predicted values, as scatter plot."
   ]
  },
  {
   "cell_type": "code",
   "execution_count": null,
   "metadata": {},
   "outputs": [],
   "source": [
    "# Superposition\n",
    "plt.figure()\n",
    "plt.scatter(x=normal_df['X1'],y=normal_df['X2'],c='b')\n",
    "plt.scatter(x=normal_df['X1'],y=ypred_normal,c='cyan')\n",
    "\n",
    "plt.scatter(x=new_anomalies['X1'],y=new_anomalies['X2'],c='r')\n",
    "plt.scatter(x=new_anomalies['X1'],y=ypred_anomalies,c='magenta')"
   ]
  },
  {
   "cell_type": "markdown",
   "metadata": {},
   "source": [
    "We can also look at the predicted values versus the actual values, for normal and anomaly points."
   ]
  },
  {
   "cell_type": "code",
   "execution_count": null,
   "metadata": {},
   "outputs": [],
   "source": [
    "# Value / Value plot\n",
    "plt.figure()\n",
    "plt.scatter(x=normal_df['X2'], y=ypred_normal, c='b')\n",
    "plt.scatter(x=new_anomalies['X2'], y=ypred_anomalies,c='r')\n",
    "plt.plot([-50,50], [-50,50], 'g--')\n",
    "plt.xlim([-40,40])\n",
    "plt.ylim([-21,21])\n",
    "plt.xlabel('Actual values')\n",
    "plt.ylabel('Predicted values')"
   ]
  },
  {
   "cell_type": "markdown",
   "metadata": {},
   "source": [
    "<div class=\"alert alert-warning\">\n",
    "Question 6: To compute an anomaly score, we will use the prediction error of the model. Compute for example the mean squared error for normal points and anomaly points.\n",
    "</div>"
   ]
  },
  {
   "cell_type": "code",
   "execution_count": null,
   "metadata": {},
   "outputs": [],
   "source": [
    "###### CODE HERE ######\n",
    "\n",
    "#######################"
   ]
  },
  {
   "cell_type": "markdown",
   "metadata": {},
   "source": [
    "Finally, let's visualize the prediction error as color levels."
   ]
  },
  {
   "cell_type": "code",
   "execution_count": null,
   "metadata": {},
   "outputs": [],
   "source": [
    "plt.figure()\n",
    "sc = plt.scatter(x=list(normal_df['X1']) + list(new_anomalies['X1']), \n",
    "            y=list(normal_df['X2']) + list(new_anomalies['X2']), \n",
    "            c=list(error_normal) + list(error_anomalies),\n",
    "            cmap='Reds')\n",
    "plt.colorbar(sc, label='Prediction error')"
   ]
  },
  {
   "cell_type": "markdown",
   "metadata": {},
   "source": [
    "It looks like a pretty good anomaly score!"
   ]
  }
 ],
 "metadata": {
  "kernelspec": {
   "display_name": "py-latest",
   "language": "python",
   "name": "python3"
  },
  "language_info": {
   "codemirror_mode": {
    "name": "ipython",
    "version": 3
   },
   "file_extension": ".py",
   "mimetype": "text/x-python",
   "name": "python",
   "nbconvert_exporter": "python",
   "pygments_lexer": "ipython3",
   "version": "3.12.6"
  }
 },
 "nbformat": 4,
 "nbformat_minor": 2
}
